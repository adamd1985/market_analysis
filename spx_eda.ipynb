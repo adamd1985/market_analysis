{
 "cells": [
  {
   "cell_type": "code",
   "execution_count": null,
   "metadata": {},
   "outputs": [],
   "source": [
    "from tqdm.notebook import tqdm\n",
    "import pandas as pd\n",
    "import matplotlib.pyplot as plt\n",
    "import numpy as np\n",
    "from dotenv import load_dotenv\n",
    "import os\n",
    "import seaborn as sns\n",
    "import pandas as pd\n",
    "from twelvedata import TDClient\n",
    "from datetime import datetime, timedelta\n",
    "\n",
    "tqdm.pandas()\n",
    "load_dotenv()\n",
    "\n",
    "API_KEY = os.getenv(\"API_KEY\")"
   ]
  },
  {
   "cell_type": "code",
   "execution_count": null,
   "metadata": {},
   "outputs": [],
   "source": [
    "INSTRUMENT_ID = \"spx\"\n",
    "INTERVAL = \"15min\"\n",
    "START = \"2020-08-10\"\n",
    "END = \"2023-08-11\"\n",
    "\n",
    "\n",
    "def load_spx():\n",
    "    # Create an empty DataFrame to store the results\n",
    "    combined_df = pd.DataFrame()\n",
    "    current_date = START\n",
    "    # Initialize an empty list to store DataFrames for each date\n",
    "    all_data = []\n",
    "    td = TDClient(apikey=API_KEY)\n",
    "\n",
    "    while current_date <= END:\n",
    "        try:\n",
    "            ts = td.time_series(\n",
    "                symbol=INSTRUMENT_ID,\n",
    "                interval=INTERVAL,\n",
    "                timezone=\"Europe/Malta\",\n",
    "                date=current_date\n",
    "            )\n",
    "\n",
    "            ts_df = ts.as_pandas().reset_index()\n",
    "            all_data.append(ts_df)\n",
    "        except:\n",
    "            print(\"error\")\n",
    "\n",
    "        current_date = datetime.strptime(current_date, '%Y-%m-%d')\n",
    "        current_date += timedelta(days=1)\n",
    "        current_date = current_date.strftime('%Y-%m-%d')\n",
    "\n",
    "    # Concatenate all DataFrames in the list into a single DataFrame\n",
    "    combined_data = pd.concat(all_data, ignore_index=True)\n",
    "    combined_data.to_json(\n",
    "        f\"./ts/{INSTRUMENT_ID}-{START}-{END}-{INTERVAL}.json\")\n",
    "\n",
    "\n",
    "combined_data = pd.DataFrame().read_json(\n",
    "    f\"./ts/{INSTRUMENT_ID}-{START}-{END}-{INTERVAL}.json\")\n",
    "\n",
    "combined_data.describe()"
   ]
  }
 ],
 "metadata": {
  "kernelspec": {
   "display_name": "tjoe",
   "language": "python",
   "name": "python3"
  },
  "language_info": {
   "codemirror_mode": {
    "name": "ipython",
    "version": 3
   },
   "file_extension": ".py",
   "mimetype": "text/x-python",
   "name": "python",
   "nbconvert_exporter": "python",
   "pygments_lexer": "ipython3",
   "version": "3.9.17"
  },
  "orig_nbformat": 4
 },
 "nbformat": 4,
 "nbformat_minor": 2
}
