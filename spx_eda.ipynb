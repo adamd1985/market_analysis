{
 "cells": [
  {
   "cell_type": "code",
   "execution_count": 32,
   "metadata": {},
   "outputs": [],
   "source": [
    "from tqdm.notebook import tqdm\n",
    "import pandas as pd\n",
    "import matplotlib.pyplot as plt\n",
    "import numpy as np\n",
    "from dotenv import load_dotenv\n",
    "import os\n",
    "import seaborn as sns\n",
    "\n",
    "tqdm.pandas()\n",
    "load_dotenv()\n",
    "\n",
    "CR_ID = \"e066e8fe16ed43b7b59c1c46986bd206\"\n",
    "INSTRUMENT_ID = \"spx\"\n",
    "INTERVAL = \"1min\" # OneMinute,FiveMinutes\n",
    "start_date=\"2020-01-06\"\n",
    "end_date=\"2023-08-10\"\n",
    "\n",
    "# API_URL=f\"https://candle.etoro.com/candles/asc.json/{INTERVAL}/20000/{INSTRUMENT_ID}?client_request_id={CR_ID}\"\n",
    "API_URL=f\"https://api.twelvedata.com/time_series?start_date={start_date}&end_date={end_date}&symbol={INSTRUMENT_ID}&interval={INTERVAL}&apikey={CR_ID}\""
   ]
  },
  {
   "cell_type": "code",
   "execution_count": 33,
   "metadata": {},
   "outputs": [
    {
     "name": "stdout",
     "output_type": "stream",
     "text": [
      "                 datetime        open        high         low       close  \\\n",
      "0     2023-08-09 15:59:00  4467.72021  4470.29980  4466.16992  4467.91016   \n",
      "1     2023-08-09 15:58:00  4468.91016  4469.62012  4467.68018  4467.68018   \n",
      "2     2023-08-09 15:57:00  4469.22021  4470.47021  4468.79980  4468.95020   \n",
      "3     2023-08-09 15:56:00  4466.85986  4470.00977  4465.52002  4469.16992   \n",
      "4     2023-08-09 15:55:00  4471.14990  4471.14990  4466.37988  4466.45020   \n",
      "...                   ...         ...         ...         ...         ...   \n",
      "4995  2023-07-24 10:43:00  4552.24023  4553.52002  4551.95020  4553.52002   \n",
      "4996  2023-07-24 10:42:00  4553.02979  4554.08984  4551.56982  4552.14014   \n",
      "4997  2023-07-24 10:41:00  4553.14014  4553.35010  4552.91992  4553.00000   \n",
      "4998  2023-07-24 10:40:00  4551.85986  4553.29980  4551.85986  4553.14990   \n",
      "4999  2023-07-24 10:39:00  4552.27002  4552.45020  4551.20996  4551.52002   \n",
      "\n",
      "        volume  \n",
      "0     25993583  \n",
      "1     21912423  \n",
      "2     19452902  \n",
      "3     22124270  \n",
      "4     21869713  \n",
      "...        ...  \n",
      "4995   4916713  \n",
      "4996   4833801  \n",
      "4997   4540025  \n",
      "4998   5242576  \n",
      "4999   3971084  \n",
      "\n",
      "[5000 rows x 6 columns]\n"
     ]
    }
   ],
   "source": [
    "import requests\n",
    "import pandas as pd\n",
    "import json\n",
    "\n",
    "# Make the API request\n",
    "response = requests.get(API_URL)\n",
    "\n",
    "# Check if the request was successful\n",
    "if response.status_code == 200:\n",
    "    api_data = response.json()\n",
    "\n",
    "    if api_data[\"status\"] == 'ok':\n",
    "        # Extract necessary data from the JSON\n",
    "        symbol = api_data['meta']['symbol']\n",
    "        interval = api_data['meta']['interval']\n",
    "        values = api_data['values']\n",
    "        \n",
    "        # Create a list of dictionaries to convert to a dataframe\n",
    "        data_list = []\n",
    "        for value in values:\n",
    "            data_list.append({\n",
    "                'datetime': value['datetime'],\n",
    "                'open': float(value['open']),\n",
    "                'high': float(value['high']),\n",
    "                'low': float(value['low']),\n",
    "                'close': float(value['close']),\n",
    "                'volume': int(value['volume'])\n",
    "            })\n",
    "        \n",
    "        # Create a dataframe from the list of dictionaries\n",
    "        df = pd.DataFrame(data_list)\n",
    "        \n",
    "        # Display the dataframe\n",
    "        print(df)\n",
    "\n",
    "        # cache it\n",
    "        df.to_json(f\"./ts/{start_date}-{end_date}-{INSTRUMENT_ID}-{INTERVAL}.json\")\n",
    "    else:\n",
    "        print(\"API request failed with:\", api_data[\"message\"])\n",
    "else:\n",
    "    print(\"API request failed with status code:\", response.status_code)\n"
   ]
  }
 ],
 "metadata": {
  "kernelspec": {
   "display_name": "tjoe",
   "language": "python",
   "name": "python3"
  },
  "language_info": {
   "codemirror_mode": {
    "name": "ipython",
    "version": 3
   },
   "file_extension": ".py",
   "mimetype": "text/x-python",
   "name": "python",
   "nbconvert_exporter": "python",
   "pygments_lexer": "ipython3",
   "version": "3.9.17"
  },
  "orig_nbformat": 4
 },
 "nbformat": 4,
 "nbformat_minor": 2
}
